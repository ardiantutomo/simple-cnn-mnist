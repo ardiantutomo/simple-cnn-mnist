{
  "nbformat": 4,
  "nbformat_minor": 0,
  "metadata": {
    "colab": {
      "name": "Simple CNN for MNIST.ipynb",
      "provenance": [],
      "collapsed_sections": [],
      "authorship_tag": "ABX9TyOor/OkGU4/bZwOCzwWQDhl",
      "include_colab_link": true
    },
    "kernelspec": {
      "name": "python3",
      "display_name": "Python 3"
    },
    "accelerator": "GPU"
  },
  "cells": [
    {
      "cell_type": "markdown",
      "metadata": {
        "id": "view-in-github",
        "colab_type": "text"
      },
      "source": [
        "<a href=\"https://colab.research.google.com/github/ardiantutomo/simple-cnn-mnist/blob/master/Simple_CNN_for_MNIST.ipynb\" target=\"_parent\"><img src=\"https://colab.research.google.com/assets/colab-badge.svg\" alt=\"Open In Colab\"/></a>"
      ]
    },
    {
      "cell_type": "code",
      "metadata": {
        "id": "sX8TLETABpuc",
        "colab_type": "code",
        "colab": {
          "base_uri": "https://localhost:8080/",
          "height": 51
        },
        "outputId": "86d7b8e1-458a-421b-c13e-80ec277f4e69"
      },
      "source": [
        "from keras.datasets import mnist\n",
        "\n",
        "(x_train, y_train), (x_test, y_test) = mnist.load_data()\n",
        "print('Training data count: {}'.format(x_train.shape[0]))\n",
        "print('Testing data count: {}'.format(x_test.shape[0]))"
      ],
      "execution_count": 9,
      "outputs": [
        {
          "output_type": "stream",
          "text": [
            "Training data count: 60000\n",
            "Testing data count: 10000\n"
          ],
          "name": "stdout"
        }
      ]
    },
    {
      "cell_type": "markdown",
      "metadata": {
        "id": "haMiPXEqGCKe",
        "colab_type": "text"
      },
      "source": [
        "# **Print Image**"
      ]
    },
    {
      "cell_type": "code",
      "metadata": {
        "id": "uzmaLeWWDzBi",
        "colab_type": "code",
        "colab": {
          "base_uri": "https://localhost:8080/",
          "height": 246
        },
        "outputId": "d985c65f-6d0c-4aba-b99c-8b9bb94e584a"
      },
      "source": [
        "from matplotlib import pyplot as plt\n",
        "\n",
        "fig=plt.figure(figsize=(15, 15))\n",
        "columns = 4\n",
        "rows = 1\n",
        "\n",
        "for i in range(1, columns*rows +1):\n",
        "    ax = fig.add_subplot(rows, columns, i)\n",
        "    ax.title.set_text('label: {}'.format(y_train[i]))\n",
        "    plt.imshow(x_train[i], cmap='gray')\n",
        "plt.show()\n"
      ],
      "execution_count": 2,
      "outputs": [
        {
          "output_type": "display_data",
          "data": {
            "image/png": "[encoded data removed]",
            "text/plain": [
              "<Figure size 1080x1080 with 4 Axes>"
            ]
          },
          "metadata": {
            "tags": [],
            "needs_background": "light"
          }
        }
      ]
    },
    {
      "cell_type": "markdown",
      "metadata": {
        "id": "o8RasVqyGH3T",
        "colab_type": "text"
      },
      "source": [
        "# **Pre-processing**"
      ]
    },
    {
      "cell_type": "code",
      "metadata": {
        "id": "X-OMlycZGFpV",
        "colab_type": "code",
        "colab": {
          "base_uri": "https://localhost:8080/",
          "height": 51
        },
        "outputId": "bb7bac34-79e7-48b0-fbe7-283f23a42f97"
      },
      "source": [
        "x_train = x_train.reshape(60000,28,28,1)\n",
        "x_test = x_test.reshape(10000,28,28,1)\n",
        "\n",
        "print(x_train.shape)\n",
        "print(x_test.shape)"
      ],
      "execution_count": 14,
      "outputs": [
        {
          "output_type": "stream",
          "text": [
            "(60000, 28, 28, 1)\n",
            "(10000, 28, 28, 1)\n"
          ],
          "name": "stdout"
        }
      ]
    },
    {
      "cell_type": "markdown",
      "metadata": {
        "id": "unMd2xmEKnjV",
        "colab_type": "text"
      },
      "source": [
        "**Using Sklearn**"
      ]
    },
    {
      "cell_type": "code",
      "metadata": {
        "id": "9UjOPcwiGnFR",
        "colab_type": "code",
        "colab": {}
      },
      "source": [
        "from sklearn.preprocessing import OneHotEncoder\n",
        "\n",
        "encoder = OneHotEncoder(sparse=False)\n",
        "y_train = y_train.reshape(-1, 1)\n",
        "y_train = encoder.fit_transform(y_train)\n",
        "\n",
        "y_test = y_test.reshape(-1, 1)\n",
        "y_test = encoder.fit_transform(y_test)"
      ],
      "execution_count": 0,
      "outputs": []
    },
    {
      "cell_type": "markdown",
      "metadata": {
        "id": "DCUJVKEeKvzi",
        "colab_type": "text"
      },
      "source": [
        "**Using Keras**"
      ]
    },
    {
      "cell_type": "code",
      "metadata": {
        "id": "h9xDQhLGKtwb",
        "colab_type": "code",
        "colab": {}
      },
      "source": [
        "from keras.utils import to_categorical\n",
        "\n",
        "y_train = to_categorical(y_train)\n",
        "y_test = to_categorical(y_test)"
      ],
      "execution_count": 0,
      "outputs": []
    },
    {
      "cell_type": "markdown",
      "metadata": {
        "id": "siQJFNxTIZJG",
        "colab_type": "text"
      },
      "source": [
        "# **The Model**"
      ]
    },
    {
      "cell_type": "code",
      "metadata": {
        "id": "8QM28HrjIY3K",
        "colab_type": "code",
        "colab": {}
      },
      "source": [
        "from keras.models import Sequential\n",
        "from keras.layers import Dense, Conv2D, Flatten\n",
        "\n",
        "model = Sequential()\n",
        "model.add(Conv2D(16, kernel_size=3, activation='relu', input_shape=(28,28,1)))\n",
        "model.add(Conv2D(8, kernel_size=3, activation='relu'))\n",
        "model.add(Flatten())\n",
        "model.add(Dense(10, activation='softmax'))"
      ],
      "execution_count": 0,
      "outputs": []
    },
    {
      "cell_type": "code",
      "metadata": {
        "id": "U7NbUEoCI3za",
        "colab_type": "code",
        "colab": {}
      },
      "source": [
        "model.compile(optimizer='adam', loss='categorical_crossentropy', metrics=['accuracy'])"
      ],
      "execution_count": 0,
      "outputs": []
    },
    {
      "cell_type": "code",
      "metadata": {
        "id": "iMb1wD3_I59c",
        "colab_type": "code",
        "colab": {
          "base_uri": "https://localhost:8080/",
          "height": 376
        },
        "outputId": "17ef9453-878f-4d81-a938-4d093fc8635d"
      },
      "source": [
        "history = model.fit(x_train, y_train, validation_data=(x_test, y_test), epochs=10)"
      ],
      "execution_count": 18,
      "outputs": [
        {
          "output_type": "stream",
          "text": [
            "Train on 60000 samples, validate on 10000 samples\n",
            "Epoch 1/10\n",
            "60000/60000 [==============================] - 13s 222us/step - loss: 0.4726 - accuracy: 0.9269 - val_loss: 0.1228 - val_accuracy: 0.9643\n",
            "Epoch 2/10\n",
            "60000/60000 [==============================] - 7s 118us/step - loss: 0.0910 - accuracy: 0.9726 - val_loss: 0.0935 - val_accuracy: 0.9722\n",
            "Epoch 3/10\n",
            "60000/60000 [==============================] - 8s 126us/step - loss: 0.0708 - accuracy: 0.9787 - val_loss: 0.1246 - val_accuracy: 0.9694\n",
            "Epoch 4/10\n",
            "60000/60000 [==============================] - 7s 119us/step - loss: 0.0557 - accuracy: 0.9828 - val_loss: 0.0999 - val_accuracy: 0.9746\n",
            "Epoch 5/10\n",
            "60000/60000 [==============================] - 7s 116us/step - loss: 0.0462 - accuracy: 0.9858 - val_loss: 0.1193 - val_accuracy: 0.9736\n",
            "Epoch 6/10\n",
            "60000/60000 [==============================] - 7s 116us/step - loss: 0.0363 - accuracy: 0.9882 - val_loss: 0.1295 - val_accuracy: 0.9741\n",
            "Epoch 7/10\n",
            "60000/60000 [==============================] - 7s 116us/step - loss: 0.0384 - accuracy: 0.9877 - val_loss: 0.1254 - val_accuracy: 0.9726\n",
            "Epoch 8/10\n",
            "60000/60000 [==============================] - 7s 116us/step - loss: 0.0249 - accuracy: 0.9923 - val_loss: 0.1404 - val_accuracy: 0.9747\n",
            "Epoch 9/10\n",
            "60000/60000 [==============================] - 7s 115us/step - loss: 0.0232 - accuracy: 0.9926 - val_loss: 0.1458 - val_accuracy: 0.9726\n",
            "Epoch 10/10\n",
            "60000/60000 [==============================] - 7s 114us/step - loss: 0.0222 - accuracy: 0.9933 - val_loss: 0.1850 - val_accuracy: 0.9748\n"
          ],
          "name": "stdout"
        }
      ]
    },
    {
      "cell_type": "markdown",
      "metadata": {
        "id": "s5XxGBYHPN2I",
        "colab_type": "text"
      },
      "source": [
        "**PLOT**"
      ]
    },
    {
      "cell_type": "code",
      "metadata": {
        "id": "T8HSvWcIPLXu",
        "colab_type": "code",
        "colab": {
          "base_uri": "https://localhost:8080/",
          "height": 279
        },
        "outputId": "90d25933-b830-4e30-fd49-da326f69ba75"
      },
      "source": [
        "plt.plot(history.history['accuracy'])\n",
        "plt.plot(history.history['val_accuracy'])\n",
        "plt.ylabel('Accuracy')\n",
        "plt.xlabel('Epoch')\n",
        "plt.show()"
      ],
      "execution_count": 19,
      "outputs": [
        {
          "output_type": "display_data",
          "data": {
            "image/png": "[encoded data removed]",
            "text/plain": [
              "<Figure size 432x288 with 1 Axes>"
            ]
          },
          "metadata": {
            "tags": [],
            "needs_background": "light"
          }
        }
      ]
    },
    {
      "cell_type": "markdown",
      "metadata": {
        "id": "Dt3mYtnDQrSk",
        "colab_type": "text"
      },
      "source": [
        "# **Prediction**"
      ]
    },
    {
      "cell_type": "code",
      "metadata": {
        "id": "clsiTRJTQt7T",
        "colab_type": "code",
        "colab": {
          "base_uri": "https://localhost:8080/",
          "height": 399
        },
        "outputId": "55fb205f-76aa-4a8c-f70d-5ef52a4ace8f"
      },
      "source": [
        "prediction = model.predict(x_test[:3])\n",
        "print(prediction)\n",
        "import numpy as np\n",
        "\n",
        "w=60\n",
        "h=40\n",
        "fig=plt.figure(figsize=(15, 15))\n",
        "columns = 3\n",
        "rows = 1\n",
        "for i in range(1, columns*rows +1):\n",
        "    ax = fig.add_subplot(rows, columns, i)\n",
        "\n",
        "    plt.xticks([], [])\n",
        "    plt.yticks([], [])\n",
        "    actual_label = np.argmax(y_test[i-1])\n",
        "    prediction_label = np.argmax(prediction[i-1])\n",
        "    ax.title.set_text('Prediction: {} - Actual: {}'.format(prediction_label, actual_label))\n",
        "    image = x_test[i-1].reshape((28,28))\n",
        "    plt.imshow(image, cmap='gray')\n",
        "plt.show()\n"
      ],
      "execution_count": 37,
      "outputs": [
        {
          "output_type": "stream",
          "text": [
            "[[1.3134041e-35 9.6667505e-37 2.0404869e-22 1.3744224e-18 0.0000000e+00\n",
            "  7.7984221e-36 0.0000000e+00 1.0000000e+00 2.0542512e-19 4.9599704e-20]\n",
            " [1.0171525e-09 1.6049381e-19 1.0000000e+00 5.3275393e-23 1.4655351e-24\n",
            "  5.7724496e-32 6.5333600e-10 2.9348320e-27 1.9600466e-18 3.0677906e-35]\n",
            " [8.5166705e-29 1.0000000e+00 3.0584352e-25 4.7909353e-32 7.4711761e-20\n",
            "  3.5425176e-18 8.1344627e-18 1.0525305e-22 9.6783192e-18 3.4502791e-18]]\n"
          ],
          "name": "stdout"
        },
        {
          "output_type": "display_data",
          "data": {
            "image/png": "[encoded data removed]",
            "text/plain": [
              "<Figure size 1080x1080 with 3 Axes>"
            ]
          },
          "metadata": {
            "tags": []
          }
        }
      ]
    }
  ]
}